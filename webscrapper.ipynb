{
 "cells": [
  {
   "cell_type": "code",
   "execution_count": 1,
   "metadata": {},
   "outputs": [],
   "source": [
    "from bs4 import *\n",
    "import requests as rq\n",
    "import os"
   ]
  },
  {
   "cell_type": "code",
   "execution_count": null,
   "metadata": {},
   "outputs": [],
   "source": [
    "p=str(input('enter the url : '))\n",
    "q=int(input('enter the number of images you want to scrap from the website : '))\n",
    "r2=rq.get(p)\n",
    "soup=BeautifulSoup(r2.text,\"html.parser\")\n",
    "link_storage=[]\n",
    "imgs=soup.find_all('img')         ##finding all the image tags in the html code\n",
    "for img in imgs:\n",
    "    link=img.get('src')     \n",
    "    if 'http:\\\\' not in link:\n",
    "        link=p+link\n",
    "    link_storage.appen\n",
    "    d(link)\n",
    "os.mkdir('image_storage_4') \n",
    "i=0\n",
    "for indx,img_link in enuerate(link_storage):\n",
    "    if(q):                       ##if(true),i.e if we give no.of images\n",
    "         if(i<q):\n",
    "                img_data=rq.get(img_link).content\n",
    "                with open('image_storage_4\\\\'+str(indx+1)+'.jpg','wb+') as f:\n",
    "                    \n",
    "                    f.write(img_data)\n",
    "                    i+=1 \n",
    "    else:                ##if we give q as 0 it will download all the images from the web\n",
    "        img_data=rq.get(img_link).content\n",
    "        with open('image_storage_2\\\\'+str(indx+1)+'.jpg','wb+') as f:\n",
    "            f.write(img_data)\n",
    "print('Downloaded successfully')\n",
    "         \n",
    "         \n",
    "        "
   ]
  },
  {
   "cell_type": "code",
   "execution_count": null,
   "metadata": {},
   "outputs": [],
   "source": []
  },
  {
   "cell_type": "code",
   "execution_count": null,
   "metadata": {},
   "outputs": [],
   "source": []
  }
 ],
 "metadata": {
  "kernelspec": {
   "display_name": "Python 3",
   "language": "python",
   "name": "python3"
  },
  "language_info": {
   "codemirror_mode": {
    "name": "ipython",
    "version": 3
   },
   "file_extension": ".py",
   "mimetype": "text/x-python",
   "name": "python",
   "nbconvert_exporter": "python",
   "pygments_lexer": "ipython3",
   "version": "3.7.1"
  }
 },
 "nbformat": 4,
 "nbformat_minor": 2
}
